{
 "cells": [
  {
   "cell_type": "markdown",
   "metadata": {},
   "source": [
    "# Mathematics Review - Probability and Information Theory"
   ]
  },
  {
   "cell_type": "code",
   "execution_count": 1,
   "metadata": {
    "collapsed": true
   },
   "outputs": [],
   "source": [
    "import numpy as np\n",
    "import scipy.stats as sp\n",
    "import matplotlib.pyplot as plt\n",
    "%matplotlib inline"
   ]
  },
  {
   "cell_type": "markdown",
   "metadata": {},
   "source": [
    "## Random variables\n",
    "A **random variable** is a variable that can take on different values randomly. These may be discrete (with a finite number of possible states) or continuous (with an infinite number)."
   ]
  },
  {
   "cell_type": "markdown",
   "metadata": {},
   "source": [
    "## Probability Distributions\n",
    "A **probability distribution** is a description of how likely a random variable or set of random variables is to take  on each of its possible states. "
   ]
  },
  {
   "cell_type": "markdown",
   "metadata": {},
   "source": [
    "### Discrete Variables and Probability Mass Functions\n",
    "If a variable is discrete, its probability distribution is described as a probability mass function. A **probability mass function** (PMF) maps the state of a random variable to its probability of taking on that state. A **joint probability distribution** is a PMF acting on multiple variables at once (i.e. $ P(X=x,Y=y).$).\n",
    "\n",
    "Some properties of PMFs:\n",
    "* The domain of P is the set of all possible states of X\n",
    "* $0 \\leq P(X) \\leq 1$. An impossible event has probability 0, a certain one has probability 1.\n",
    "* $\\sum_{x\\in X} P(x) = 1$. The probabilities are normalized so that they sum to 1. "
   ]
  },
  {
   "cell_type": "code",
   "execution_count": 2,
   "metadata": {
    "collapsed": false
   },
   "outputs": [
    {
     "data": {
      "text/plain": [
       "array([[ 0. ,  0.2],\n",
       "       [ 1. ,  0.4],\n",
       "       [ 2. ,  0.3],\n",
       "       [ 3. ,  0.1]])"
      ]
     },
     "execution_count": 2,
     "metadata": {},
     "output_type": "execute_result"
    }
   ],
   "source": [
    "#in NumPy/SciPy:\n",
    "X = np.random.choice(5, 10) #create some discrete data\n",
    "val, count = np.unique(X, return_counts=True) # get value and value counts\n",
    "pmf = count / float(len(X)) #normalize values to sum to 1\n",
    "np.column_stack((val, pmf))"
   ]
  },
  {
   "cell_type": "markdown",
   "metadata": {},
   "source": [
    "### Continuous Variables and Probability Density Functions\n",
    "Continuous variables work similar to discrete ones, where the **probability density function** is the continous equivalent of the discrete probability mass function. The key difference is that we must measure probability over intervals in this case because the function is continuous. Accordintly, we instad measure \n",
    "\n",
    "$$\\int_{a}^{b} p(x)dx.$$\n",
    "\n",
    "Some properties of PDFs:\n",
    "* $\\int p(x)dx$ = 1. Similar to PMFs, the area covered by the function sums to one. \n",
    "* $p(x) \\geq 0$\n",
    "* the domain of the function is all possible states of x"
   ]
  },
  {
   "cell_type": "code",
   "execution_count": 3,
   "metadata": {
    "collapsed": false
   },
   "outputs": [
    {
     "data": {
      "text/plain": [
       "[<matplotlib.lines.Line2D at 0x1066dccd0>]"
      ]
     },
     "execution_count": 3,
     "metadata": {},
     "output_type": "execute_result"
    },
    {
     "data": {
      "image/png": "[encoded data removed]",
      "text/plain": [
       "<matplotlib.figure.Figure at 0x1065a5410>"
      ]
     },
     "metadata": {},
     "output_type": "display_data"
    }
   ],
   "source": [
    "from scipy.stats.kde import gaussian_kde\n",
    "data = np.random.randn(1000)\n",
    "kde = gaussian_kde( data )\n",
    "dist_space = np.linspace( min(data), max(data), 100 )\n",
    "plt.plot( dist_space, kde(dist_space) )"
   ]
  },
  {
   "cell_type": "markdown",
   "metadata": {},
   "source": [
    "## Marginal Probability\n",
    "The **marginal probability distribution** is the distribution over a subset of the variables in a PDF. If $P(x,y)$ is known, we can find $P(x)$ using either a sum rule or an integral, depending on whether the data is discrete or continuous:\n",
    "\n",
    "$$P(X=x) = \\sum_{y} P(X=x,Y=y) $$\n",
    "\n",
    "$$p(x) = \\int p(x,y)dy. $$"
   ]
  },
  {
   "cell_type": "markdown",
   "metadata": {},
   "source": [
    "## Contidional Probability\n",
    "We will often be interested in the probability of an event happening conditional on a series of other features. This is computed as:\n",
    "\n",
    "$$P(Y=y | X=x) = \\frac{P(Y=y, X=x)}{P(X=x)}$$"
   ]
  },
  {
   "cell_type": "markdown",
   "metadata": {},
   "source": [
    "### The Chain Rule of Conditional Probabilities \n",
    "A joint probability distribution can be decomposed into conditional distributions over one variable.\n",
    "\n",
    "$$P(x^{1}, . . ., x^{n}) = P(x^{1})\\prod_{i=2}^{n} P(x^{i} | x^{1}, . . ., x^{i-1}). $$\n",
    "\n",
    "So, for example:\n",
    "\n",
    "$$ P(a,b,c) = P(a|b,c)P(b,c) $$\n",
    "$$ P(b,c) = P(b|c)P(c) $$\n",
    "$$ P(a,b,c) = P(a|b,c)P(b|c)P(c) $$"
   ]
  },
  {
   "cell_type": "markdown",
   "metadata": {},
   "source": [
    "## Independence and Conditional Independence\n",
    "Two random variables are **independent** if  their probability distributions can be expressed as a product of one another $$ P(X,Y) = P(X)P(Y). $$\n",
    "\n",
    "Similarly, they are **conditionally independent** given a third variable $z$ if\n",
    "\n",
    "$$ P(X,Y|Z) = P(X|Z)P(Y|Z). $$"
   ]
  },
  {
   "cell_type": "markdown",
   "metadata": {},
   "source": [
    "## Expectation, Variance, and Covariance\n",
    "The **exptectation** of a function $f(x)$ is the mean value it takes on when drawn from its probability distribution $P(X).$ If discrete, it is calculated as\n",
    " $$E[f(X)] = \\sum_{x} P(x)f(x) $$\n",
    " \n",
    " and if coontinuous:\n",
    " \n",
    " $$ E[f(X)] = \\int p(x)f(x)dx. $$\n",
    " \n",
    " Expectations are linear, so $E[\\alpha f(x)] = \\alpha E[f(x)].$\n",
    " \n",
    " **Variance** is a measure of how much a functions values vary when samples from its distribution. \n",
    " \n",
    " $$Var(f(x)) = E[(f(x) - E[f(x)])^2] $$\n",
    " \n",
    " **Covariance** is how much two variables move together in a linear fashion. \n",
    " \n",
    " $$ Cov(f(x), g(y)) = E[ (f(x) - E[f(x)]) (g(y) - E[g(y)]) ]. $$\n",
    " \n",
    " A **covariance matrix**, finally, is a matrix whose elements are the covariances between features. The diagonal elements of this matrix are therefore the variances of features i through j. "
   ]
  },
  {
   "cell_type": "markdown",
   "metadata": {},
   "source": [
    "## Common Distributions"
   ]
  },
  {
   "cell_type": "markdown",
   "metadata": {},
   "source": [
    "### Bernoulli Distribution\n",
    "This distribution is over a single binary random variable. It is parameterized only by $\\theta \\in [0,1]$, which gives the probability of the random variable being equal to one.\n",
    "\n",
    "Properties:\n",
    "* $P(x=1) = \\theta$\n",
    "* $P(x=0) = 1 - \\theta$\n",
    "* $P(X=x) = \\theta ^{x} (1- \\theta)^{1-x}$\n",
    "* $E[X] = \\theta$\n",
    "* $Var(X) = \\theta (1 - \\theta)$"
   ]
  },
  {
   "cell_type": "code",
   "execution_count": 4,
   "metadata": {
    "collapsed": false
   },
   "outputs": [
    {
     "data": {
      "text/plain": [
       "[<matplotlib.lines.Line2D at 0x10683ae50>]"
      ]
     },
     "execution_count": 4,
     "metadata": {},
     "output_type": "execute_result"
    },
    {
     "data": {
      "image/png": "[encoded data removed]",
      "text/plain": [
       "<matplotlib.figure.Figure at 0x10674d210>"
      ]
     },
     "metadata": {},
     "output_type": "display_data"
    }
   ],
   "source": [
    "x = np.arange(-1, 20)\n",
    "dist = sp.binom(20, .2)\n",
    "plt.plot(x, dist.pmf(x))"
   ]
  },
  {
   "cell_type": "markdown",
   "metadata": {},
   "source": [
    "### Multinoulli Distribution\n",
    "The multinoulli, or categorical distibution, is over a single discrete variable with $k$ different states, where $k$ is finite. It is parameterized by $\\textbf{p} \\in [0,1]^{k-1}$, where $p_{i}$ gives the probability of that $i$-th state."
   ]
  },
  {
   "cell_type": "code",
   "execution_count": 5,
   "metadata": {
    "collapsed": false
   },
   "outputs": [
    {
     "data": {
      "text/plain": [
       "[<matplotlib.lines.Line2D at 0x106952390>]"
      ]
     },
     "execution_count": 5,
     "metadata": {},
     "output_type": "execute_result"
    },
    {
     "data": {
      "image/png": "[encoded data removed]",
      "text/plain": [
       "<matplotlib.figure.Figure at 0x1067fc090>"
      ]
     },
     "metadata": {},
     "output_type": "display_data"
    }
   ],
   "source": [
    "x = np.linspace(1, 20, 20)\n",
    "dist = sp.binom(20, .2)\n",
    "plt.plot(x, dist.pmf(x))"
   ]
  },
  {
   "cell_type": "markdown",
   "metadata": {},
   "source": [
    "### Gaussian Distribution\n",
    "The gaussian, or **normal distribution**, is parameterized by its mean $\\mu$ and variance $\\sigma^{2}$. It has convenient properties, such as that the sum of many independnet random variables is approximately normal (see [**central limit theorem**](https://en.wikipedia.org/wiki/Central_limit_theorem)), and that adding observations to your data causes the distribution to collapse around its mean (see [**law of large numbers**](https://en.wikipedia.org/wiki/Law_of_large_numbers)). Also conveniently, many real-world variables are close to being normally distributed. The distribution is defined as:\n",
    "\n",
    "$$f(x\\;|\\;\\mu ,\\sigma ^{2})={\\frac {1}{\\sqrt {2\\sigma ^{2}\\pi }}}\\;e^{-{\\frac {(x-\\mu )^{2}}{2\\sigma ^{2}}}}.$$"
   ]
  },
  {
   "cell_type": "code",
   "execution_count": 6,
   "metadata": {
    "collapsed": false
   },
   "outputs": [
    {
     "data": {
      "image/png": "[encoded data removed]",
      "text/plain": [
       "<matplotlib.figure.Figure at 0x1068967d0>"
      ]
     },
     "metadata": {},
     "output_type": "display_data"
    }
   ],
   "source": [
    "import matplotlib.mlab as mlab\n",
    "import math\n",
    "\n",
    "mu = 0\n",
    "variance = 1\n",
    "sigma = math.sqrt(variance)\n",
    "x = np.linspace(-3, 3, 100)\n",
    "plt.plot(x,mlab.normpdf(x, mu, sigma))\n",
    "\n",
    "plt.show()"
   ]
  },
  {
   "cell_type": "markdown",
   "metadata": {},
   "source": [
    "## Useful Properties of Common Functions"
   ]
  },
  {
   "cell_type": "markdown",
   "metadata": {},
   "source": [
    "There are a few functions that you can's escape when working with neural network models. Perhaps the most common is the **logistic sigmoid**:\n",
    "\n",
    "$$ \\sigma(x) = \\frac{1}{1+\\text{exp}(-x)} $$\n",
    "\n",
    "This function is commonly used to produce the $\\theta$ parameter  of a Bernnoulli distribution because its range is (0,1). The sigmoid function saturates when x gets very large or very small, as can be seen in the graph below. "
   ]
  },
  {
   "cell_type": "code",
   "execution_count": 7,
   "metadata": {
    "collapsed": false,
    "scrolled": true
   },
   "outputs": [
    {
     "data": {
      "text/plain": [
       "[<matplotlib.lines.Line2D at 0x106b781d0>]"
      ]
     },
     "execution_count": 7,
     "metadata": {},
     "output_type": "execute_result"
    },
    {
     "data": {
      "image/png": "[encoded data removed]",
      "text/plain": [
       "<matplotlib.figure.Figure at 0x10689f3d0>"
      ]
     },
     "metadata": {},
     "output_type": "display_data"
    }
   ],
   "source": [
    "x = np.linspace(-10, 10, 20)\n",
    "y = 1/(1+np.exp(-x))\n",
    "plt.plot(x,y)"
   ]
  },
  {
   "cell_type": "markdown",
   "metadata": {},
   "source": [
    "A second inescapable function is the **softplus function**:\n",
    "\n",
    "$$ \\zeta(x) = \\text{log}(1+\\text{exp}(x)). $$\n",
    "\n",
    "This function can be used to create the $\\beta$ or $\\sigma$ parameter of a normal distribute because its range is $(0,\\infty).$ it is also used to manipulate sigmoids. The name \"softplus\" comes from the fact that it is a smoothed version of the function $f(x) = \\text{max}(0, x).$"
   ]
  },
  {
   "cell_type": "code",
   "execution_count": 8,
   "metadata": {
    "collapsed": false
   },
   "outputs": [
    {
     "data": {
      "text/plain": [
       "[<matplotlib.lines.Line2D at 0x106d1f6d0>]"
      ]
     },
     "execution_count": 8,
     "metadata": {},
     "output_type": "execute_result"
    },
    {
     "data": {
      "image/png": "[encoded data removed]",
      "text/plain": [
       "<matplotlib.figure.Figure at 0x10689ffd0>"
      ]
     },
     "metadata": {},
     "output_type": "display_data"
    }
   ],
   "source": [
    "y = np.log(1+np.exp(x))\n",
    "plt.plot(x,y)"
   ]
  },
  {
   "cell_type": "markdown",
   "metadata": {},
   "source": [
    "The following properties are important to the point that Goodfellow et al. recommend their reader memorize them:\n",
    "* $ \\sigma(x) = \\frac{\\text{exp}(x)}{(\\text{exp}(x) + \\text{exp}(0))}$\n",
    "* $ \\frac{d}{dx}\\sigma(x) = \\sigma(x)(1-\\sigma(x)) $\n",
    "* $ 1 - \\sigma(x) = \\sigma(-x) $\n",
    "* $ \\text{log}\\sigma(x) = -\\zeta(-x)$\n",
    "* $ \\frac{d}{dx}\\zeta(x) = \\sigma(x) $\n",
    "* $ \\forall x \\in (0,1), \\sigma^{-1}(x) = \\text{log}\\left( \\frac{x}{1-x} \\right)$\n",
    "* $ \\forall x > 0, \\zeta^{-1}(x) = \\text{log}(\\text{exp}(x) - 1)$\n",
    "* $ \\zeta(x) = \\int_{-\\infty}^{x} \\sigma(y)dy$\n",
    "* $ \\zeta(x) - \\zeta(-x) = x $"
   ]
  },
  {
   "cell_type": "markdown",
   "metadata": {},
   "source": [
    "## Bayes' Rule\n",
    "\n",
    "Bayes' rule is a way to find $p(x|y)$ when we already know $p(y|x)$ and $ p(x).$ The rule states that:\n",
    "\n",
    "$$ p(x|y) = \\frac{p(y|x)p(x)}{p(y)}$$"
   ]
  },
  {
   "cell_type": "markdown",
   "metadata": {},
   "source": [
    "## Information Theory\n",
    "\n",
    "Information theory is a branch of applied mathematics that revolves aroiund quantifying how much informatin is present in a signal. Sounds relevant to machine learning, no?\n",
    "\n",
    "The basic intuition of information theory is that unikely events provide more useful information than likely events. To formalize this intuition:\n",
    "\n",
    "* likely events should have low information content, and guaranteed events should have zero information content\n",
    "* unlikely events should high information content\n",
    "* independent events should have additive information. The results of two coin flips provide more information than the result of only one. \n",
    "\n",
    "**Self-information** of an event x in this field is defined as:\n",
    "\n",
    "$$ I(x) = -\\text{log}P(x)$$\n",
    "\n",
    "**Shannon entropy** refers to the expectation of this function:\n",
    "\n",
    "$$ H(x) = E_{x \\tilde{} P}\\left[ I(x) \\right] = -E_{x \\tilde{} P}\\left[ \\text{log}P(x) \\right]\n",
    " $$\n",
    "\n",
    "When x is continuous, this is referred to as **differential entropy**. When an outcome is almost certain, entropy is low, and visa-versa when an event is unlikely. \n",
    "\n",
    "Further, we can measure how different two probability distributions $P(x)$ and $Q(x)$ are over the same variable using **Kullback-Liebler (KL) Divergence**:\n",
    "\n",
    "$$ D_{KL}(P||Q) = E_{x \\tilde{} P}\\left[ \\text{log}\\frac{P(x)}{Q(x)} \\right] = E_{x \\tilde{} P} \\left[ \\text{log}P(x) - \\text{log}Q(x) \\right]$$\n",
    "\n",
    "A convenient property of this is that it is non-negative, and equals 0 if and only if P(x) and Q(x) are the same distribution. This sounds like it is measuring the difference between P and Q, but note that $D_{KL}(P||Q) \\neq D_{KL}(Q||P)$, meaning that it is not symmetric and not a true distance measure. \n",
    "\n",
    "A related measuyre is **cross-entropy**. This measure is similar to KL divergence, but eliminates the term on the left:\n",
    "\n",
    "$$ H(P,Q) = H(P) + D_{KL}(P||Q) $$\n",
    "$$ H(P,Q) = -E_{x \\tilde{} P} \\text{log}Q(x) $$\n",
    "\n",
    "Minimizing cross entropy with respect to Q is equivalent to minimizing the KL divervence, buecause Q does not participate in the omitted term. \n"
   ]
  }
 ],
 "metadata": {
  "kernelspec": {
   "display_name": "Python 2",
   "language": "python",
   "name": "python2"
  },
  "language_info": {
   "codemirror_mode": {
    "name": "ipython",
    "version": 2
   },
   "file_extension": ".py",
   "mimetype": "text/x-python",
   "name": "python",
   "nbconvert_exporter": "python",
   "pygments_lexer": "ipython2",
   "version": "2.7.9"
  }
 },
 "nbformat": 4,
 "nbformat_minor": 0
}
